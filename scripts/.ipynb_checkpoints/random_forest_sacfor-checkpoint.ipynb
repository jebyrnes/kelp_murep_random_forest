{
 "cells": [
  {
   "cell_type": "markdown",
   "id": "4c3203fb-4e11-4e79-9ae7-0512f94c8ec2",
   "metadata": {},
   "source": [
    "# Random Forest Classification (RFC) - vegetation \n",
    "* SACFOR and Reflectance\n",
    "* aided by: \n",
    "https://www.datacamp.com/tutorial/random-forests-classifier-python"
   ]
  },
  {
   "cell_type": "code",
   "execution_count": 213,
   "id": "c799061a-2a37-44dd-be61-85ec029d3614",
   "metadata": {},
   "outputs": [
    {
     "ename": "ModuleNotFoundError",
     "evalue": "No module named 'graphviz'",
     "output_type": "error",
     "traceback": [
      "\u001b[0;31m---------------------------------------------------------------------------\u001b[0m",
      "\u001b[0;31mModuleNotFoundError\u001b[0m                       Traceback (most recent call last)",
      "\u001b[0;32m/var/folders/69/6d1c0dr57w3c_dskwr2955mh0000gq/T/ipykernel_79050/3738000497.py\u001b[0m in \u001b[0;36m<cell line: 15>\u001b[0;34m()\u001b[0m\n\u001b[1;32m     13\u001b[0m \u001b[0;32mfrom\u001b[0m \u001b[0msklearn\u001b[0m\u001b[0;34m.\u001b[0m\u001b[0mtree\u001b[0m \u001b[0;32mimport\u001b[0m \u001b[0mexport_graphviz\u001b[0m\u001b[0;34m\u001b[0m\u001b[0;34m\u001b[0m\u001b[0m\n\u001b[1;32m     14\u001b[0m \u001b[0;32mfrom\u001b[0m \u001b[0mIPython\u001b[0m\u001b[0;34m.\u001b[0m\u001b[0mdisplay\u001b[0m \u001b[0;32mimport\u001b[0m \u001b[0mImage\u001b[0m\u001b[0;34m\u001b[0m\u001b[0;34m\u001b[0m\u001b[0m\n\u001b[0;32m---> 15\u001b[0;31m \u001b[0;32mimport\u001b[0m \u001b[0mgraphviz\u001b[0m\u001b[0;34m\u001b[0m\u001b[0;34m\u001b[0m\u001b[0m\n\u001b[0m",
      "\u001b[0;31mModuleNotFoundError\u001b[0m: No module named 'graphviz'"
     ]
    }
   ],
   "source": [
    "import numpy as np\n",
    "import pandas as pd\n",
    "import geopandas as gpd\n",
    "import rasterio as rio\n",
    "from rasterio import sample\n",
    "\n",
    "# Modeling\n",
    "from sklearn.ensemble import RandomForestClassifier\n",
    "from sklearn.model_selection import train_test_split, RandomizedSearchCV\n",
    "from sklearn.metrics import accuracy_score, confusion_matrix, precision_score, recall_score, ConfusionMatrixDisplay\n",
    "\n",
    "# Tree Visualisation\n",
    "from sklearn.tree import export_graphviz\n",
    "from IPython.display import Image\n",
    "import graphviz"
   ]
  },
  {
   "cell_type": "markdown",
   "id": "fea2a4ca-61ae-4781-9828-e14500bb2c31",
   "metadata": {},
   "source": [
    "### Load Training Data"
   ]
  },
  {
   "cell_type": "code",
   "execution_count": 192,
   "id": "0635f77d-9a15-4ff8-9dc2-435ee3ec67c3",
   "metadata": {},
   "outputs": [],
   "source": [
    "# load the sacfor shape file\n",
    "sacfor = gpd.read_file('/Volumes/Mere/UMB/Sidescan_surveys/gooseberries_sacfor_raster_samples/gooseberries_sacfor_raster_samples.shp')\n",
    "sacfor['SACFOR_veg'] = sacfor['SACFOR_veg'].replace('s', 'S')\n",
    "\n",
    "# map the sacfor scales to integer scale\n",
    "sacfor['SACFOR_veg target'] = sacfor['SACFOR_veg'].map({'S':5,'A':4,'C':3,'F':2,'O':1,'R':0})\n",
    "\n",
    "\n",
    "# Load the hyperspectral data\n",
    "img_file = '/Volumes/Mere/UMB/Headwall/merged/rasterio_1m_smoothed_deglinted_clean.tif'\n"
   ]
  },
  {
   "cell_type": "markdown",
   "id": "d0f3d9dd-5b8f-42de-abd6-d78ab33c3ebf",
   "metadata": {},
   "source": [
    "### Sort Training Data\n",
    "* Elevation threshold == > -4 m\n",
    "* Sample associated spectra from the headwall raster"
   ]
  },
  {
   "cell_type": "code",
   "execution_count": 193,
   "id": "e28d1261-7e46-4755-9493-416c4295a76d",
   "metadata": {},
   "outputs": [],
   "source": [
    "# Load the hyperspectral data from the .tif file\n",
    "with rio.open(img_file) as src:\n",
    "    arr = src.read()\n",
    "    meta = src.meta\n",
    "    \n",
    "    # sort out deep elevation\n",
    "    sacfor = sacfor[sacfor['Elev(m)']>=-3.5]\n",
    "    \n",
    "    # convert the headwall crs\n",
    "    sacfor = sacfor.to_crs(src.crs)\n",
    "\n",
    "    # Extract the X and Y coordinates of the points into separate columns\n",
    "    sacfor['X'] = sacfor.geometry.x\n",
    "    sacfor['Y'] = sacfor.geometry.y\n",
    "    \n",
    "    temp = [sacfor['geometry'].x, sacfor['geometry'].y]\n",
    "    coords = list(map(list, zip(*temp)))    \n",
    "    \n",
    "    # Extract the headwall R spectra and insert numpy array into sacfor dataframe \n",
    "    sacfor['spectra'] = [sample for sample in src.sample(coords)]\n",
    "    #sacfor['spectra'] = sacfor.apply(lambda row: row['spectra'].reshape(-1,1),axis=1)\n",
    "    sacfor['spectra_sum'] = sacfor.apply(lambda row: row['spectra'].sum(), axis=1)\n"
   ]
  },
  {
   "cell_type": "markdown",
   "id": "56e5a62b-569d-4760-bd5e-241ab4d8e114",
   "metadata": {},
   "source": [
    "### RFC - Setup\n",
    "* SACFOR rating is the target (y) variable\n",
    "* Headwall R spectra is the feature (x) variable"
   ]
  },
  {
   "cell_type": "code",
   "execution_count": 209,
   "id": "6146773f-6ed6-4a8c-a64b-afeff491227a",
   "metadata": {},
   "outputs": [],
   "source": [
    "# Create dataframe with only features (X) and target (Y)\n",
    "\n",
    "training_data = pd.DataFrame()\n",
    "\n",
    "training_data['sacfor_y'] =  sacfor['SACFOR_veg target']\n",
    "training_data['headwall_X'] = sacfor['spectra_sum']\n",
    "training_data = training_data.dropna()\n",
    "\n",
    "X = training_data.drop('sacfor_y',axis=1)\n",
    "y = training_data['sacfor_y']"
   ]
  },
  {
   "cell_type": "markdown",
   "id": "8135ce9c-a285-474d-9783-9d8aa426d740",
   "metadata": {},
   "source": [
    "### RFC - Training"
   ]
  },
  {
   "cell_type": "code",
   "execution_count": 210,
   "id": "6b1c58c2-6a30-405a-8bf9-5001b78cdbb1",
   "metadata": {},
   "outputs": [],
   "source": [
    "# Split the data into training and testing sets\n",
    "\n",
    "ts = 0.2\n",
    "X_train, X_test, y_train, y_test = train_test_split(X, y, test_size=ts)#, random_state=42)\n"
   ]
  },
  {
   "cell_type": "markdown",
   "id": "df4b5a16-f04b-4ffd-96ee-e521f9b1df34",
   "metadata": {},
   "source": [
    "### RFC - Fitting and Evaluating"
   ]
  },
  {
   "cell_type": "code",
   "execution_count": 211,
   "id": "faedb88c-a4d8-44d5-a477-814390eede11",
   "metadata": {},
   "outputs": [
    {
     "name": "stdout",
     "output_type": "stream",
     "text": [
      "Accuracy: 0.56\n",
      "Confusion matrix:\n",
      " [[ 1  1  0  0  0]\n",
      " [ 0  0  0  0  1]\n",
      " [ 0  0  1  0  1]\n",
      " [ 1  2  1  1  0]\n",
      " [ 0  1  2  1 11]]\n"
     ]
    }
   ],
   "source": [
    "# Create a random forest classifier and fit the training data\n",
    "rf = RandomForestClassifier()#n_estimators=100, random_state=42)\n",
    "rf.fit(X_train, y_train)\n",
    "\n",
    "# Make predictions on the testing data\n",
    "y_pred = rf.predict(X_test)\n",
    "\n",
    "# Evaluate the accuracy of the model\n",
    "accuracy = accuracy_score(y_test, y_pred)\n",
    "cm = confusion_matrix(y_test, y_pred)\n",
    "\n",
    "print(\"Accuracy:\", accuracy)\n",
    "print(\"Confusion matrix:\\n\", cm)"
   ]
  },
  {
   "cell_type": "markdown",
   "id": "61825080-ff5d-4276-b3e2-0ce4d391f831",
   "metadata": {},
   "source": [
    "### RFC - Visualizing the Results"
   ]
  },
  {
   "cell_type": "code",
   "execution_count": 212,
   "id": "0fd8bef0-dd61-4eb9-89d2-a67c1d4a55cc",
   "metadata": {},
   "outputs": [
    {
     "ename": "NameError",
     "evalue": "name 'graphviz' is not defined",
     "output_type": "error",
     "traceback": [
      "\u001b[0;31m---------------------------------------------------------------------------\u001b[0m",
      "\u001b[0;31mNameError\u001b[0m                                 Traceback (most recent call last)",
      "\u001b[0;32m/var/folders/69/6d1c0dr57w3c_dskwr2955mh0000gq/T/ipykernel_79050/3325382630.py\u001b[0m in \u001b[0;36m<cell line: 3>\u001b[0;34m()\u001b[0m\n\u001b[1;32m      9\u001b[0m                                \u001b[0mimpurity\u001b[0m\u001b[0;34m=\u001b[0m\u001b[0;32mFalse\u001b[0m\u001b[0;34m,\u001b[0m\u001b[0;34m\u001b[0m\u001b[0;34m\u001b[0m\u001b[0m\n\u001b[1;32m     10\u001b[0m                                proportion=True)\n\u001b[0;32m---> 11\u001b[0;31m     \u001b[0mgraph\u001b[0m \u001b[0;34m=\u001b[0m \u001b[0mgraphviz\u001b[0m\u001b[0;34m.\u001b[0m\u001b[0mSource\u001b[0m\u001b[0;34m(\u001b[0m\u001b[0mdot_data\u001b[0m\u001b[0;34m)\u001b[0m\u001b[0;34m\u001b[0m\u001b[0;34m\u001b[0m\u001b[0m\n\u001b[0m\u001b[1;32m     12\u001b[0m     \u001b[0mdisplay\u001b[0m\u001b[0;34m(\u001b[0m\u001b[0mgraph\u001b[0m\u001b[0;34m)\u001b[0m\u001b[0;34m\u001b[0m\u001b[0;34m\u001b[0m\u001b[0m\n",
      "\u001b[0;31mNameError\u001b[0m: name 'graphviz' is not defined"
     ]
    }
   ],
   "source": [
    "# Export the first three decision trees from the forest\n",
    "\n",
    "for i in range(3):\n",
    "    tree = rf.estimators_[i]\n",
    "    dot_data = export_graphviz(tree,\n",
    "                               feature_names=X_train.columns,  \n",
    "                               filled=True,  \n",
    "                               max_depth=2, \n",
    "                               impurity=False, \n",
    "                               proportion=True)\n",
    "    graph = graphviz.Source(dot_data)\n",
    "    display(graph)"
   ]
  },
  {
   "cell_type": "code",
   "execution_count": null,
   "id": "0b5a033c-14ec-4a3a-9eb2-b74bcc1e58eb",
   "metadata": {},
   "outputs": [],
   "source": []
  }
 ],
 "metadata": {
  "kernelspec": {
   "display_name": "Python 3 (ipykernel)",
   "language": "python",
   "name": "python3"
  },
  "language_info": {
   "codemirror_mode": {
    "name": "ipython",
    "version": 3
   },
   "file_extension": ".py",
   "mimetype": "text/x-python",
   "name": "python",
   "nbconvert_exporter": "python",
   "pygments_lexer": "ipython3",
   "version": "3.9.13"
  }
 },
 "nbformat": 4,
 "nbformat_minor": 5
}
